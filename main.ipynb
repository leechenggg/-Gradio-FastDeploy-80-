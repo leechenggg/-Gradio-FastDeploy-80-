{
 "cells": [
  {
   "cell_type": "markdown",
   "metadata": {},
   "source": [
    "## 一、项目背景\n",
    "假如你训练了一个目标检测模型，你想让朋友快速体验一下，你会怎么做呢？\n",
    "一般来讲你会把代码打包发给朋友，然后告诉他怎么配环境，怎么部署模型。或者连同环境封装成docker镜像，让对方直接运行实例，但是对方得懂docker，也要懂模型部署等知识。即便朋友愿意去花时间体验，一波操作下来会面临各种奇怪的问题。\n",
    "\n",
    "为了方便快捷的体验应用，AI Studio平台最新上线了Gradio在线部署环境。不需要各种麻烦的操作，只需一键导入图片，即可立即生成效果图。\n",
    "\n",
    "本项目以[PaddleDetection-PPYOLOE训练好的COCO模型](https://github.com/PaddlePaddle/PaddleDetection/blob/release/2.6/configs/ppyoloe/README_cn.md)为例，介绍如何使用Gradio和FastDeploy实现目标检测应用部署。\n",
    "\n",
    "![](https://ai-studio-static-online.cdn.bcebos.com/6b49b31ac9d947839bba93dee974e00d1e1250fd28dd464caa954e990c7c095f)\n",
    "\n",
    "\n"
   ]
  },
  {
   "cell_type": "markdown",
   "metadata": {},
   "source": [
    "> 以下为COCO数据集的前部分类别与对应标号，文中部署好了COCO物体检测应用，大家可以体验一下。\n",
    "\n",
    "![](https://ai-studio-static-online.cdn.bcebos.com/82853ae705e64a8b8bb55bc9389a8a15b591ff86cc5f4eb186588abffae3455b)"
   ]
  },
  {
   "cell_type": "markdown",
   "metadata": {},
   "source": [
    "## 二、方法步骤"
   ]
  },
  {
   "cell_type": "markdown",
   "metadata": {},
   "source": [
    "### 2.1训练一个目标检测模型\n",
    " 要想部署模型，首先得训练一个模型，本文是直接下载的[PaddleDetection-PPYOLOE训练好的COCO模型](https://github.com/PaddlePaddle/PaddleDetection/blob/release/2.6/configs/ppyoloe/README_cn.md)，当然也可以参考官方的一些项目进行训练。用PaddleDetection训练好的模型包含三个部分，.pdparams文件为模型权重，只需取 **.pdparams** 文件即可。为方便演示，我把下载好的 **.pdparams** 文件添加到根目录里。\n",
    "\n",
    "![](https://ai-studio-static-online.cdn.bcebos.com/27565c9e4ccb4d93babc00a69222d209120ada7f0bc34f1fbe25f1c03fbfb7db)\n",
    "\n"
   ]
  },
  {
   "cell_type": "markdown",
   "metadata": {},
   "source": [
    "### 2.2导出部署模型\n",
    "模型训练好之后，我们要通过一些命令导出部署模型，注意：**训练的模型文件和部署的模型文件不同**。\n",
    "\n",
    "部署模型主要用于推理，具体包括四种文件：\n",
    "\n",
    "```\n",
    "ppyoloe_crn_l_300e_coco    # 模型目录\n",
    "├── infer_cfg.yml      # 模型配置信息\n",
    "├── model.pdiparams     # 参数文件\n",
    "└── model.pdiparams.info # 模型信息\n",
    "└── model.pdmodel     # 模型文件\n",
    "\n",
    "```\n",
    "\n",
    "由于是目标检测任务，我们使用paddledetection套件以及一些命令导出部署模型，参考链接：https://github.com/PaddlePaddle/PaddleDetection/blob/release/2.6/deploy/EXPORT_MODEL.md"
   ]
  },
  {
   "cell_type": "markdown",
   "metadata": {},
   "source": [
    "由于网络缓慢，这里直接解压PaddleDetection-release-2.6版本"
   ]
  },
  {
   "cell_type": "code",
   "execution_count": null,
   "metadata": {
    "scrolled": true,
    "tags": []
   },
   "outputs": [],
   "source": [
    "# 解压方式安装PaddleDetection\r\n",
    "!unzip data/data207390/PaddleDetection-release-2.6.zip\r\n",
    "!mv PaddleDetection-release-2.6 PaddleDetection"
   ]
  },
  {
   "cell_type": "code",
   "execution_count": null,
   "metadata": {
    "scrolled": true,
    "tags": []
   },
   "outputs": [],
   "source": [
    "# 用命令安装PaddleDetection\n",
    "# !git clone https://gitee.com/paddlepaddle/PaddleDetection.git"
   ]
  },
  {
   "cell_type": "code",
   "execution_count": 4,
   "metadata": {
    "execution": {
     "iopub.execute_input": "2023-05-11T03:45:41.167034Z",
     "iopub.status.busy": "2023-05-11T03:45:41.166365Z",
     "iopub.status.idle": "2023-05-11T03:45:41.173150Z",
     "shell.execute_reply": "2023-05-11T03:45:41.172401Z",
     "shell.execute_reply.started": "2023-05-11T03:45:41.166994Z"
    },
    "scrolled": true
   },
   "outputs": [
    {
     "name": "stdout",
     "output_type": "stream",
     "text": [
      "/home/aistudio/PaddleDetection\r\n"
     ]
    }
   ],
   "source": [
    "%cd PaddleDetection"
   ]
  },
  {
   "cell_type": "code",
   "execution_count": null,
   "metadata": {
    "scrolled": true,
    "tags": []
   },
   "outputs": [],
   "source": [
    "# 安装依赖\n",
    "!pip install -r requirements.txt --user\n",
    "!python setup.py install --user"
   ]
  },
  {
   "cell_type": "code",
   "execution_count": 6,
   "metadata": {
    "execution": {
     "iopub.execute_input": "2023-05-11T03:46:27.820291Z",
     "iopub.status.busy": "2023-05-11T03:46:27.819561Z",
     "iopub.status.idle": "2023-05-11T03:46:48.859492Z",
     "shell.execute_reply": "2023-05-11T03:46:48.858176Z",
     "shell.execute_reply.started": "2023-05-11T03:46:27.820239Z"
    },
    "scrolled": true
   },
   "outputs": [
    {
     "name": "stdout",
     "output_type": "stream",
     "text": [
      "/opt/conda/envs/python35-paddle120-env/lib/python3.7/site-packages/matplotlib/__init__.py:107: DeprecationWarning: Using or importing the ABCs from 'collections' instead of from 'collections.abc' is deprecated, and in 3.8 it will stop working\r\n",
      "  from collections import MutableMapping\r\n",
      "/opt/conda/envs/python35-paddle120-env/lib/python3.7/site-packages/matplotlib/rcsetup.py:20: DeprecationWarning: Using or importing the ABCs from 'collections' instead of from 'collections.abc' is deprecated, and in 3.8 it will stop working\r\n",
      "  from collections import Iterable, Mapping\r\n",
      "/opt/conda/envs/python35-paddle120-env/lib/python3.7/site-packages/matplotlib/colors.py:53: DeprecationWarning: Using or importing the ABCs from 'collections' instead of from 'collections.abc' is deprecated, and in 3.8 it will stop working\r\n",
      "  from collections import Sized\r\n",
      "[05/11 11:46:36] ppdet.utils.checkpoint INFO: Finish loading model weights: ../ppyoloe_plus_crn_l_80e_coco.pdparams\r\n",
      "[05/11 11:46:37] ppdet.data.source.category WARNING: anno_file 'dataset/coco/annotations/instances_val2017.json' is None or not set or not exist, please recheck TrainDataset/EvalDataset/TestDataset.anno_path, otherwise the default categories will be used by metric_type.\r\n",
      "[05/11 11:46:37] ppdet.data.source.category WARNING: metric_type: COCO, load default categories of COCO.\r\n",
      "[05/11 11:46:37] ppdet.engine INFO: Export inference config file to output_inference/ppyoloe_plus_crn_l_80e_coco/infer_cfg.yml\r\n",
      "[05/11 11:46:47] ppdet.engine INFO: Export model and saved in output_inference/ppyoloe_plus_crn_l_80e_coco\r\n"
     ]
    }
   ],
   "source": [
    "# 导出部署模型\n",
    "# 指定训练配置文件\n",
    "# 指定训练好的模型文件\n",
    "!python tools/export_model.py \\\n",
    "-c configs/ppyoloe/ppyoloe_plus_crn_l_80e_coco.yml \\\n",
    "-o weights=../ppyoloe_plus_crn_l_80e_coco.pdparams"
   ]
  },
  {
   "cell_type": "markdown",
   "metadata": {},
   "source": [
    "### 2.3fastdeploy验证"
   ]
  },
  {
   "cell_type": "code",
   "execution_count": null,
   "metadata": {
    "scrolled": true,
    "tags": []
   },
   "outputs": [],
   "source": [
    "# 安装相关包\n",
    "!pip install numpy opencv-python fastdeploy-python -f https://www.paddlepaddle.org.cn/whl/fastdeploy.html --user"
   ]
  },
  {
   "cell_type": "markdown",
   "metadata": {},
   "source": [
    "**注意**：直接运行下一步可能会出现报错 **No module named 'fastdeploy'** ，这时，我们需要**先保存文件**，然后重启内核，再运行下一步\n",
    "\n",
    "\n",
    "![](https://ai-studio-static-online.cdn.bcebos.com/0bc0a3b146f04d4c82ed775bec37aa53377a01bf51b74c31882f0e161e4bb76f)\n",
    "![](https://ai-studio-static-online.cdn.bcebos.com/1b748db264f74cbd8053f7b469c0c97d0a5bc5c6b250443084e80a840f7c3ce8)\n"
   ]
  },
  {
   "cell_type": "code",
   "execution_count": 1,
   "metadata": {
    "execution": {
     "iopub.execute_input": "2023-05-11T03:49:00.742979Z",
     "iopub.status.busy": "2023-05-11T03:49:00.742247Z",
     "iopub.status.idle": "2023-05-11T03:49:05.196702Z",
     "shell.execute_reply": "2023-05-11T03:49:05.195019Z",
     "shell.execute_reply.started": "2023-05-11T03:49:00.742940Z"
    },
    "scrolled": true,
    "tags": []
   },
   "outputs": [
    {
     "name": "stdout",
     "output_type": "stream",
     "text": [
      "[INFO] fastdeploy/vision/common/processors/transform.cc(45)::FuseNormalizeCast\tNormalize and Cast are fused to Normalize in preprocessing pipeline.\r\n",
      "[INFO] fastdeploy/vision/common/processors/transform.cc(93)::FuseNormalizeHWC2CHW\tNormalize and HWC2CHW are fused to NormalizeAndPermute  in preprocessing pipeline.\r\n",
      "[INFO] fastdeploy/vision/common/processors/transform.cc(159)::FuseNormalizeColorConvert\tBGR2RGB and NormalizeAndPermute are fused to NormalizeAndPermute with swap_rb=1\r\n",
      "[INFO] fastdeploy/runtime/backends/openvino/ov_backend.cc(218)::InitFromPaddle\tnumber of streams:1.\r\n",
      "[INFO] fastdeploy/runtime/backends/openvino/ov_backend.cc(228)::InitFromPaddle\taffinity:YES.\r\n",
      "[INFO] fastdeploy/runtime/backends/openvino/ov_backend.cc(240)::InitFromPaddle\tCompile OpenVINO model on device_name:CPU.\r\n",
      "[INFO] fastdeploy/runtime/runtime.cc(279)::CreateOpenVINOBackend\tRuntime initialized with Backend::OPENVINO in Device::CPU.\r\n"
     ]
    },
    {
     "data": {
      "text/plain": [
       "True"
      ]
     },
     "execution_count": 1,
     "metadata": {},
     "output_type": "execute_result"
    }
   ],
   "source": [
    "# 验证部署是否正确\n",
    "import cv2\n",
    "import fastdeploy.vision as vision\n",
    "model = vision.detection.PPYOLOE(\"/home/aistudio/PaddleDetection/output_inference/ppyoloe_plus_crn_l_80e_coco/model.pdmodel\",\n",
    "                                    \"/home/aistudio/PaddleDetection/output_inference/ppyoloe_plus_crn_l_80e_coco/model.pdiparams\", \n",
    "                                    \"/home/aistudio/PaddleDetection/output_inference/ppyoloe_plus_crn_l_80e_coco/infer_cfg.yml\", \n",
    "                                )\n",
    "im = cv2.imread(\"/home/aistudio/mm.jpg\")\n",
    "result = model.predict(im)\n",
    "vis_im = vision.vis_detection(im, result, score_threshold=0.5)\n",
    "cv2.imwrite(\"/home/aistudio/work/result.png\", vis_im)"
   ]
  },
  {
   "cell_type": "markdown",
   "metadata": {},
   "source": [
    "## 三、Gradio在线预览\n",
    "\n",
    "1. 打开gradio应用，系统会自动生成一个`untitled.gradio.py`文件\n",
    "2. 将本项目的`demo.gradio.py`替换掉生成的`untitled.gradio.py`文件，在AI Studio上，gradio应用统一需要以`{filename}.gradio.py`命名，平台会自动识别。\n",
    "3. 在根目录新建一个`launch`文件夹，将.gradio.py文件、output_inference文件夹、example图像（如有）、requirements.txt文件**一并放入**launch文件夹内\n",
    "4. 如果是自己导出的模型，需要在demo.gradio.py修改model为自己的导出模型，打开demo.gradio.py查看效果，无报错在进行下一步\n",
    "\n",
    "    ```\n",
    "    >>cd ./launch/\n",
    "    ├── demo.gradio.py\n",
    "    ├── output_inference\n",
    "    │   ├── infer_cfg.yml      \n",
    "    │   ├── model.pdiparams\n",
    "    │   ├── model.pdiparams.info\n",
    "    │   ├── model.pdmodel\n",
    "    ├── example.jpg\n",
    "    ├── requirements.txt\n",
    "    ```\n",
    "\n"
   ]
  },
  {
   "cell_type": "markdown",
   "metadata": {},
   "source": [
    "![](https://ai-studio-static-online.cdn.bcebos.com/802fd1968212433e9d33d98e1a2ae9998a3b9a41cda74cc8a37d800f5b5350aa)\n"
   ]
  },
  {
   "cell_type": "markdown",
   "metadata": {},
   "source": [
    "### 3.2FastDeploy介绍\n",
    "\n",
    "FastDeploy是一款全场景、易用灵活、极致高效的AI推理部署工具。提供超过 🔥160+ Text，Vision， Speech和跨模态模型📦开箱即用的部署体验。包括物体检测、字符识别（OCR）、人脸、人像扣图、多目标跟踪系统、NLP、Stable Diffusion文图生成、TTS 等几十种任务场景。FastDeploy需要安装一些包进行适配，安装包在requirements.txt文件夹里，部署时会自动安装。大家可以尝试一下FastDeploy支持的其他模型进行应用部署。\n",
    "\n",
    "![](https://ai-studio-static-online.cdn.bcebos.com/4f8821ec97f9458f81d013fea830853dba348c04842349628c694adf923f0a7e)\n",
    "\n",
    "> 参数：\n",
    "> * model_file(str): 模型文件路径\n",
    "> * params_file(str): 参数文件路径\n",
    "> * config_file(str): 推理配置yaml文件路径\n",
    "\n",
    "> FastDeploy的PPYOLOE Python部署参考链接：https://github.com/PaddlePaddle/FastDeploy/blob/develop/docs/cn/quick_start/models/python.md"
   ]
  },
  {
   "cell_type": "markdown",
   "metadata": {},
   "source": [
    "### 3.2gradio.py文件介绍\n",
    "\n",
    "Gradio的核心是它的`gr.Interface`函数，用来构建可视化界面。\n",
    "\n",
    "- fn：放你用来处理的函数，这里的fn即为**FastDeploy预测过程**，只有几行代码\n",
    "- inputs：写你的输入类型，这里输入的是图像，所以是\"image\"\n",
    "- outputs：写你的输出类型，这里输出的是图像，所以是\"image\"\n",
    "\n",
    "最后我们用`demo.lauch()`把页面一发布，一个本地静态交互页面就完成了。\n",
    "\n",
    "![](https://ai-studio-static-online.cdn.bcebos.com/fadbf8e8f80844cc81927ff369242819e7742fde76e44e21a89b9cb89302399e)\n"
   ]
  },
  {
   "cell_type": "markdown",
   "metadata": {},
   "source": [
    "## 四、应用部署\n",
    " * 将`bushu.gradio.py`放入launch文件夹内，点击应用部署，右边出现报错，不要在意。`bushu.gradio.py`文件与`demo.gradio.py`主要区别在于model路径\n",
    " \n",
    " * 这里我选择CPU部署，因为不需要算力，如果选择GPU则需要更改FastDeploy的安装包，以及调用命令，可参考上边的文档\n",
    "![](https://ai-studio-static-online.cdn.bcebos.com/c6146170280e4083acb4c82dc44b0881934ea16e96794a69b9876ca9d5801939)\n",
    "\n",
    "![](https://ai-studio-static-online.cdn.bcebos.com/e79cd7cb044e4e87ac0e7e305eb96e3d2ad9f95e1f88413eb5e8276d845422c2)\n",
    "\n"
   ]
  },
  {
   "cell_type": "markdown",
   "metadata": {},
   "source": [
    "## 五、参考资料\n",
    "\n",
    "- [RT-DETR：全新ViT系列模型助力铁路工人安全作业[Gradio版本发布！]](https://aistudio.baidu.com/aistudio/projectdetail/6000200)\n",
    "- [Gradio上线！手把手教你搭建在线AI应用：以视频字幕提取为例](https://aistudio.baidu.com/aistudio/projectdetail/5779911)\n",
    "- [FastDeploy](https://github.com/PaddlePaddle/FastDeploy/tree/develop)"
   ]
  }
 ],
 "metadata": {
  "kernelspec": {
   "display_name": "Python 3",
   "language": "python",
   "name": "py35-paddle1.2.0"
  },
  "language_info": {
   "codemirror_mode": {
    "name": "ipython",
    "version": 3
   },
   "file_extension": ".py",
   "mimetype": "text/x-python",
   "name": "python",
   "nbconvert_exporter": "python",
   "pygments_lexer": "ipython3",
   "version": "3.7.4"
  }
 },
 "nbformat": 4,
 "nbformat_minor": 4
}
